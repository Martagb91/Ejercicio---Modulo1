{
 "cells": [
  {
   "cell_type": "markdown",
   "metadata": {},
   "source": [
    "# Ejercicios Tuplas"
   ]
  },
  {
   "cell_type": "code",
   "execution_count": 1,
   "metadata": {},
   "outputs": [
    {
     "data": {
      "text/plain": [
       "'Definir tuplas'"
      ]
     },
     "execution_count": 1,
     "metadata": {},
     "output_type": "execute_result"
    }
   ],
   "source": [
    "\"\"\"Definir tuplas\"\"\""
   ]
  },
  {
   "cell_type": "code",
   "execution_count": 2,
   "metadata": {},
   "outputs": [],
   "source": [
    "#1. Crea una tupla persona1 para juntar los siguientes datos: \n",
    "# 61 kg, 1.54 m altura, pelo marrón, sin usar paréntesis. (Serán del tipo int, float y str.)\n",
    "\n",
    "persona_1 = 61, 1.54 , \"pelo marrón\""
   ]
  },
  {
   "cell_type": "code",
   "execution_count": 3,
   "metadata": {},
   "outputs": [
    {
     "data": {
      "text/plain": [
       "tuple"
      ]
     },
     "execution_count": 3,
     "metadata": {},
     "output_type": "execute_result"
    }
   ],
   "source": [
    "type(persona_1)"
   ]
  },
  {
   "cell_type": "code",
   "execution_count": 4,
   "metadata": {},
   "outputs": [],
   "source": [
    "#2. Crea una tupla para la persona2 de 68 kg, 1.65 m y pelo rubio, usando paréntesis.\n",
    "\n",
    "persona2 = (68, 1.65, \"pelo rubio\")"
   ]
  },
  {
   "cell_type": "code",
   "execution_count": 5,
   "metadata": {},
   "outputs": [
    {
     "data": {
      "text/plain": [
       "tuple"
      ]
     },
     "execution_count": 5,
     "metadata": {},
     "output_type": "execute_result"
    }
   ],
   "source": [
    "type(persona2)"
   ]
  },
  {
   "cell_type": "code",
   "execution_count": 6,
   "metadata": {},
   "outputs": [],
   "source": [
    "#3. Crea una lista talla que recompila 'M', 42, y 39.\n",
    "talla = [\"m\", 42, 39]"
   ]
  },
  {
   "cell_type": "code",
   "execution_count": 7,
   "metadata": {},
   "outputs": [
    {
     "data": {
      "text/plain": [
       "list"
      ]
     },
     "execution_count": 7,
     "metadata": {},
     "output_type": "execute_result"
    }
   ],
   "source": [
    "type(talla)"
   ]
  },
  {
   "cell_type": "code",
   "execution_count": 8,
   "metadata": {},
   "outputs": [
    {
     "data": {
      "text/plain": [
       "'Convertir y juntar'"
      ]
     },
     "execution_count": 8,
     "metadata": {},
     "output_type": "execute_result"
    }
   ],
   "source": [
    "\"\"\"Convertir y juntar\"\"\""
   ]
  },
  {
   "cell_type": "code",
   "execution_count": 9,
   "metadata": {},
   "outputs": [],
   "source": [
    "#4. Convierte la lista talla a una tupla.\n",
    "\n",
    "talla = tuple(talla)"
   ]
  },
  {
   "cell_type": "code",
   "execution_count": 10,
   "metadata": {},
   "outputs": [
    {
     "data": {
      "text/plain": [
       "tuple"
      ]
     },
     "execution_count": 10,
     "metadata": {},
     "output_type": "execute_result"
    }
   ],
   "source": [
    "type(talla)"
   ]
  },
  {
   "cell_type": "code",
   "execution_count": 11,
   "metadata": {},
   "outputs": [],
   "source": [
    "#5. Une a la tupla de persona1 los datos en talla, para tener una única tupla.\n",
    "\n",
    "tupla_talla = persona_1 + talla"
   ]
  },
  {
   "cell_type": "code",
   "execution_count": 12,
   "metadata": {},
   "outputs": [
    {
     "name": "stdout",
     "output_type": "stream",
     "text": [
      "('m', 42, 39)\n"
     ]
    }
   ],
   "source": [
    "print(talla)"
   ]
  },
  {
   "cell_type": "code",
   "execution_count": 13,
   "metadata": {},
   "outputs": [
    {
     "data": {
      "text/plain": [
       "tuple"
      ]
     },
     "execution_count": 13,
     "metadata": {},
     "output_type": "execute_result"
    }
   ],
   "source": [
    "type(talla)"
   ]
  },
  {
   "cell_type": "markdown",
   "metadata": {},
   "source": [
    "### Indexar tuplas"
   ]
  },
  {
   "cell_type": "code",
   "execution_count": 15,
   "metadata": {},
   "outputs": [],
   "source": [
    "#6. Saca de persona2 el contenido del tercer elemento y llámalo color.\n",
    "color = persona2[2]"
   ]
  },
  {
   "cell_type": "code",
   "execution_count": 16,
   "metadata": {},
   "outputs": [
    {
     "data": {
      "text/plain": [
       "'pelo rubio'"
      ]
     },
     "execution_count": 16,
     "metadata": {},
     "output_type": "execute_result"
    }
   ],
   "source": [
    "color"
   ]
  },
  {
   "cell_type": "code",
   "execution_count": 28,
   "metadata": {},
   "outputs": [
    {
     "data": {
      "text/plain": [
       "3"
      ]
     },
     "execution_count": 28,
     "metadata": {},
     "output_type": "execute_result"
    }
   ],
   "source": [
    "#7. ¿Cuántos elementos hay ahora en persona1? (Es decir, ¿cuál es su longitud?)\n",
    "\n",
    "len(persona_1)\n"
   ]
  },
  {
   "cell_type": "markdown",
   "metadata": {},
   "source": [
    "### Desempaquetar"
   ]
  },
  {
   "cell_type": "code",
   "execution_count": null,
   "metadata": {},
   "outputs": [
    {
     "name": "stdout",
     "output_type": "stream",
     "text": [
      "pelo marrón\n",
      "61\n",
      "1.54\n"
     ]
    }
   ],
   "source": [
    "\"\"\"\"mirado en soluciones, no tenía ni idea\"\"\"\n",
    "\n",
    "#8. Crea las variables peso, altura, color_pelo y llénalas con el contenido de persona1. \n",
    "# Imprime color_pelo para comprobar el resultado\n",
    "\n",
    "peso, altura, color_pelo = persona_1\n",
    "print(color_pelo)\n",
    "print(peso)\n",
    "print(altura)\n"
   ]
  },
  {
   "cell_type": "markdown",
   "metadata": {},
   "source": [
    "### ZIPEAR"
   ]
  },
  {
   "cell_type": "code",
   "execution_count": 35,
   "metadata": {},
   "outputs": [
    {
     "name": "stdout",
     "output_type": "stream",
     "text": [
      "(61, 1.54, 'pelo marrón')\n",
      "(68, 1.65, 'pelo rubio')\n"
     ]
    }
   ],
   "source": [
    "\"\"\"¿QUE ES ESTO??\"\"\"\n",
    "#9. Crea el zip personas con persona1 y persona2.\n",
    "\n",
    "print(persona_1)\n",
    "print(persona2)\n",
    "\n"
   ]
  },
  {
   "cell_type": "code",
   "execution_count": 38,
   "metadata": {},
   "outputs": [
    {
     "name": "stdout",
     "output_type": "stream",
     "text": [
      "El resultado del zip de estas listas  después de convertirlo a lista es: [(61, 1.54, 'pelo marrón'), (68, 1.65, 'pelo rubio')]\n"
     ]
    }
   ],
   "source": [
    "zip_personas = (persona_1, persona2)\n",
    "\n",
    "print(\"El resultado del zip de estas listas  después de convertirlo a lista es:\", list(zip_personas) )"
   ]
  },
  {
   "cell_type": "code",
   "execution_count": 40,
   "metadata": {},
   "outputs": [
    {
     "data": {
      "text/plain": [
       "[(61, 68), (1.54, 1.65), ('pelo marrón', 'pelo rubio')]"
      ]
     },
     "execution_count": 40,
     "metadata": {},
     "output_type": "execute_result"
    }
   ],
   "source": [
    "\"\"\"SOLUCION PROFE\"\"\"\n",
    "\n",
    "personas = list(zip(persona_1, persona2))\n",
    "personas"
   ]
  },
  {
   "cell_type": "code",
   "execution_count": null,
   "metadata": {},
   "outputs": [
    {
     "data": {
      "text/plain": [
       "2"
      ]
     },
     "execution_count": 41,
     "metadata": {},
     "output_type": "execute_result"
    }
   ],
   "source": [
    "#10. ¿Cuántas \"elementos\" tiene personas? ¿Por qué?\n",
    "\n",
    "len(zip_personas) #porque se ha convertido persona 1 en un elemento y persona 2 en otro"
   ]
  },
  {
   "cell_type": "code",
   "execution_count": 42,
   "metadata": {},
   "outputs": [],
   "source": [
    "#11. Crea una tupla etiquetas con 'peso', 'altura', y 'color_pelo'.\n",
    "\n",
    "etiquetas = 'peso', 'altura', 'color_pelo'"
   ]
  },
  {
   "cell_type": "code",
   "execution_count": 43,
   "metadata": {},
   "outputs": [
    {
     "data": {
      "text/plain": [
       "tuple"
      ]
     },
     "execution_count": 43,
     "metadata": {},
     "output_type": "execute_result"
    }
   ],
   "source": [
    "type(etiquetas)"
   ]
  },
  {
   "cell_type": "code",
   "execution_count": 44,
   "metadata": {},
   "outputs": [],
   "source": [
    "#12. Crea al zip de etiquetas, persona1, y persona2, llamado \"todo\".\n",
    "\n",
    "zip_todo = list(zip(etiquetas, persona_1, persona2))"
   ]
  },
  {
   "cell_type": "code",
   "execution_count": 45,
   "metadata": {},
   "outputs": [
    {
     "name": "stdout",
     "output_type": "stream",
     "text": [
      "[('peso', 61, 68), ('altura', 1.54, 1.65), ('color_pelo', 'pelo marrón', 'pelo rubio')]\n"
     ]
    }
   ],
   "source": [
    "print(zip_todo)"
   ]
  },
  {
   "cell_type": "markdown",
   "metadata": {},
   "source": [
    "### MANIPULAR ZIPS"
   ]
  },
  {
   "cell_type": "code",
   "execution_count": null,
   "metadata": {},
   "outputs": [
    {
     "ename": "AttributeError",
     "evalue": "'tuple' object has no attribute 'sort'",
     "output_type": "error",
     "traceback": [
      "\u001b[1;31m---------------------------------------------------------------------------\u001b[0m",
      "\u001b[1;31mAttributeError\u001b[0m                            Traceback (most recent call last)",
      "Cell \u001b[1;32mIn[49], line 3\u001b[0m\n\u001b[0;32m      1\u001b[0m \u001b[38;5;66;03m#13. Ordena las propiedades de la variable personas alfabéticamente. ¿Puedes? ¿Por qué?\u001b[39;00m\n\u001b[1;32m----> 3\u001b[0m zip_personas\u001b[38;5;241m.\u001b[39msort()\n\u001b[0;32m      4\u001b[0m \u001b[38;5;28mprint\u001b[39m(zip_personas)\n",
      "\u001b[1;31mAttributeError\u001b[0m: 'tuple' object has no attribute 'sort'"
     ]
    }
   ],
   "source": [
    "#13. Ordena las propiedades de la variable personas alfabéticamente. ¿Puedes? ¿Por qué?\n",
    "\"\"\"¿PORQUE NO SE PUEDE?\"\"\"\n",
    "\n",
    "zip_personas.sort()\n",
    "print(zip_personas)"
   ]
  }
 ],
 "metadata": {
  "kernelspec": {
   "display_name": "base",
   "language": "python",
   "name": "python3"
  },
  "language_info": {
   "codemirror_mode": {
    "name": "ipython",
    "version": 3
   },
   "file_extension": ".py",
   "mimetype": "text/x-python",
   "name": "python",
   "nbconvert_exporter": "python",
   "pygments_lexer": "ipython3",
   "version": "3.12.7"
  }
 },
 "nbformat": 4,
 "nbformat_minor": 2
}
