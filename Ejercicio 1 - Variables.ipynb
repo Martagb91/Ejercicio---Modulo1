{
 "cells": [
  {
   "cell_type": "code",
   "execution_count": 226,
   "metadata": {},
   "outputs": [],
   "source": [
    "#1. Crea la variable gatos que sea un número con el valor 8.#\n",
    "#2. Crea la variable perros que sea un texto de seis caracteres: la palabra cuatro.#\n",
    "gatos = 8\n",
    "perros = \"cuatro\""
   ]
  },
  {
   "cell_type": "code",
   "execution_count": 227,
   "metadata": {},
   "outputs": [
    {
     "name": "stdout",
     "output_type": "stream",
     "text": [
      "8\n"
     ]
    }
   ],
   "source": [
    "#3. Imprime la variable gatos#\n",
    "print(gatos)"
   ]
  },
  {
   "cell_type": "code",
   "execution_count": 228,
   "metadata": {},
   "outputs": [
    {
     "name": "stdout",
     "output_type": "stream",
     "text": [
      "cuatro\n"
     ]
    }
   ],
   "source": [
    "#4. Imprime la palabra perros#\n",
    "print(perros)"
   ]
  },
  {
   "cell_type": "code",
   "execution_count": 229,
   "metadata": {},
   "outputs": [
    {
     "name": "stdout",
     "output_type": "stream",
     "text": [
      "cuatro más cuatro\n"
     ]
    }
   ],
   "source": [
    "#5. Imprime la variable perros seguida por la palabra más y la palabra perros otra vez#\n",
    "print(perros, \"más\", perros)"
   ]
  },
  {
   "cell_type": "code",
   "execution_count": 230,
   "metadata": {},
   "outputs": [
    {
     "name": "stdout",
     "output_type": "stream",
     "text": [
      "cuatro más cuatro es igual a 8\n"
     ]
    }
   ],
   "source": [
    "#6.Consigue que el ordenador devuelva el siguiente texto, usando la variable perros#\n",
    "print(perros, \"más\", perros, \"es igual a\", gatos)"
   ]
  },
  {
   "cell_type": "code",
   "execution_count": 231,
   "metadata": {},
   "outputs": [
    {
     "name": "stdout",
     "output_type": "stream",
     "text": [
      "cuatro + cuatro = 8\n"
     ]
    }
   ],
   "source": [
    "#7. Consigue que el ordenador devuelva el siguiente texto, usando la variable perros#\n",
    "print(perros, \"+\", perros, \"=\", gatos )"
   ]
  },
  {
   "cell_type": "code",
   "execution_count": 232,
   "metadata": {},
   "outputs": [],
   "source": [
    "#8. Define una variable pizzas con un valor 2 que sea del tipo float#\n",
    "#9. Define magdalenas con un valor 2 que sea del tipo string.#\n",
    "#10. Define postres con un valor 0 que sea del tipo int.#\n",
    "\n",
    "\"\"\"INCORRECTO\"\"\"\n",
    "\n",
    "pizza = float(2)\n",
    "magdalenas = \"dos\"\n",
    "postres = int(0)\n",
    "\n",
    "\"\"\"CORREGIDO\"\"\"\n",
    "\n",
    "pizza = 2 # Float\n",
    "magdalenas = \"2\" # String al ponerlo entre comillas, no hace falta que sea escrito\n",
    "postres = 0 # Integer, número entero"
   ]
  },
  {
   "cell_type": "code",
   "execution_count": 233,
   "metadata": {},
   "outputs": [
    {
     "ename": "SyntaxError",
     "evalue": "invalid syntax (1268410481.py, line 4)",
     "output_type": "error",
     "traceback": [
      "\u001b[1;36m  Cell \u001b[1;32mIn[233], line 4\u001b[1;36m\u001b[0m\n\u001b[1;33m    Número entero\u001b[0m\n\u001b[1;37m           ^\u001b[0m\n\u001b[1;31mSyntaxError\u001b[0m\u001b[1;31m:\u001b[0m invalid syntax\n"
     ]
    }
   ],
   "source": [
    "\"\"\"INCORRECTO\"\"\" \"\"\"No se tenía que contestar SINO comprobar\"\"\"\n",
    "#11. ¿Qué tipo de dato es la variable pizzas?#\n",
    "\n",
    "Número entero\n",
    "\n",
    "#12. ¿Es la variable magdalenas de tipo string?#\n",
    "Lo he escrito en texto, entiendo que si\n",
    "\n",
    "#13. Define postres con un valor 0#\n",
    " postres = 0"
   ]
  },
  {
   "cell_type": "code",
   "execution_count": null,
   "metadata": {},
   "outputs": [
    {
     "name": "stdout",
     "output_type": "stream",
     "text": [
      "<class 'int'>\n",
      "<class 'str'>\n"
     ]
    }
   ],
   "source": [
    "\"\"\"CORRECTO\"\"\"\n",
    "#11. ¿Qué tipo de dato es la variable pizzas?#\n",
    "\n",
    "print(type(pizza))\n",
    "\n",
    "#12. ¿Es la variable magdalenas de tipo string?#\n",
    "\n",
    "print(type(magdalenas))\n",
    "\n",
    "#13. Define postres con un valor 0#\n",
    "postres = 0\n"
   ]
  },
  {
   "cell_type": "code",
   "execution_count": null,
   "metadata": {},
   "outputs": [
    {
     "name": "stdout",
     "output_type": "stream",
     "text": [
      "10\n"
     ]
    }
   ],
   "source": [
    "#14. Calcula la suma de gatos y pizzas.#\n",
    "print(gatos + pizza)"
   ]
  },
  {
   "cell_type": "code",
   "execution_count": null,
   "metadata": {},
   "outputs": [
    {
     "name": "stdout",
     "output_type": "stream",
     "text": [
      "6\n"
     ]
    }
   ],
   "source": [
    "#15. Calcula la diferencia entre gatos y pizzas#\n",
    "print(gatos - pizza)"
   ]
  },
  {
   "cell_type": "code",
   "execution_count": null,
   "metadata": {},
   "outputs": [
    {
     "data": {
      "text/plain": [
       "8"
      ]
     },
     "execution_count": 140,
     "metadata": {},
     "output_type": "execute_result"
    }
   ],
   "source": [
    "gatos"
   ]
  },
  {
   "cell_type": "code",
   "execution_count": null,
   "metadata": {},
   "outputs": [
    {
     "name": "stdout",
     "output_type": "stream",
     "text": [
      "16\n"
     ]
    }
   ],
   "source": [
    "#16. Multiplica las cantidad de gatos por 2.#\n",
    "gatos * 2\n",
    "print(gatos * 2) #se puede hacer de las dos formas"
   ]
  },
  {
   "cell_type": "code",
   "execution_count": null,
   "metadata": {},
   "outputs": [],
   "source": [
    "#17. Crea una variable piezas que sea 8 veces la cantidad de pizzas.#\n",
    "piezas = pizza * 8"
   ]
  },
  {
   "cell_type": "code",
   "execution_count": null,
   "metadata": {},
   "outputs": [
    {
     "data": {
      "text/plain": [
       "16"
      ]
     },
     "execution_count": 142,
     "metadata": {},
     "output_type": "execute_result"
    }
   ],
   "source": [
    "piezas #la respuesta correcta es 16 porque tenemos 2 pizzas y las multiplicamos por 8"
   ]
  },
  {
   "cell_type": "code",
   "execution_count": null,
   "metadata": {},
   "outputs": [],
   "source": [
    "\"\"\"INCORRECTO\"\"\" #18. Haz que la cantidad de piezas se aumente en 3.#\n",
    "# piezas = piezas*3\n",
    "\n",
    "\"\"\"CORRECTO\"\"\"\n",
    "\n",
    "piezas += 3 #queria que se sumaran 3, sirve para sumar y guardar en la variable inicial un valor \"n\""
   ]
  },
  {
   "cell_type": "code",
   "execution_count": null,
   "metadata": {},
   "outputs": [
    {
     "data": {
      "text/plain": [
       "19"
      ]
     },
     "execution_count": 144,
     "metadata": {},
     "output_type": "execute_result"
    }
   ],
   "source": [
    "piezas #la respuesta correcta que tiene que dar es 19 (16+3)"
   ]
  },
  {
   "cell_type": "code",
   "execution_count": null,
   "metadata": {},
   "outputs": [],
   "source": [
    "# 19. Calcula el cuadrado de 9 y guárdalo en una variable llamada superficie#\n",
    "superficie = 9 ** 2"
   ]
  },
  {
   "cell_type": "code",
   "execution_count": null,
   "metadata": {},
   "outputs": [
    {
     "data": {
      "text/plain": [
       "81"
      ]
     },
     "execution_count": 147,
     "metadata": {},
     "output_type": "execute_result"
    }
   ],
   "source": [
    "superficie"
   ]
  },
  {
   "cell_type": "code",
   "execution_count": null,
   "metadata": {},
   "outputs": [
    {
     "name": "stdout",
     "output_type": "stream",
     "text": [
      "10.125\n"
     ]
    }
   ],
   "source": [
    "#20. ¿Cuánta superficie hay por gato?#\n",
    "print(superficie/gatos)"
   ]
  },
  {
   "cell_type": "code",
   "execution_count": null,
   "metadata": {},
   "outputs": [
    {
     "name": "stdout",
     "output_type": "stream",
     "text": [
      "2.375\n"
     ]
    }
   ],
   "source": [
    "#21. ¿Cuántas piezas enteras hay por gato?\n",
    "print(piezas/gatos)"
   ]
  },
  {
   "cell_type": "code",
   "execution_count": null,
   "metadata": {},
   "outputs": [
    {
     "data": {
      "text/plain": [
       "8"
      ]
     },
     "execution_count": 217,
     "metadata": {},
     "output_type": "execute_result"
    }
   ],
   "source": [
    "gatos"
   ]
  },
  {
   "cell_type": "code",
   "execution_count": null,
   "metadata": {},
   "outputs": [
    {
     "data": {
      "text/plain": [
       "2.375"
      ]
     },
     "execution_count": 218,
     "metadata": {},
     "output_type": "execute_result"
    }
   ],
   "source": [
    "piezas/gatos"
   ]
  },
  {
   "cell_type": "code",
   "execution_count": null,
   "metadata": {},
   "outputs": [
    {
     "data": {
      "text/plain": [
       "2"
      ]
     },
     "execution_count": 221,
     "metadata": {},
     "output_type": "execute_result"
    }
   ],
   "source": [
    "pizza"
   ]
  },
  {
   "cell_type": "code",
   "execution_count": 236,
   "metadata": {},
   "outputs": [],
   "source": [
    "piezas = 19"
   ]
  },
  {
   "cell_type": "code",
   "execution_count": 234,
   "metadata": {},
   "outputs": [
    {
     "name": "stdout",
     "output_type": "stream",
     "text": [
      "82\n"
     ]
    }
   ],
   "source": [
    "\"\"\"REVISAR CON ROCIO\"\"\" \n",
    "\n",
    "#22. ¿Cuántas piezas te quedan si cada gato se come 21 piezas?\n",
    "\n",
    "\"\"\"INCORRECTO\"\"\" #no puse nada claro\n",
    "\n",
    "\"\"\"CORRECTO\"\"\"\n",
    "\n",
    "print(piezas % (gatos * 21)) #19piezas % (proporciona el resto) (8gatos * 21 piezas)"
   ]
  },
  {
   "cell_type": "code",
   "execution_count": null,
   "metadata": {},
   "outputs": [
    {
     "name": "stdout",
     "output_type": "stream",
     "text": [
      "10.1\n"
     ]
    }
   ],
   "source": [
    "#23. ¿Cuánta superficie hay por gato en metros cuadrados? \n",
    "# Redondeala a un sólo decimal. Intenta calcularlo dentro del mismo print() en una sola línea.\n",
    "\n",
    "print(round(superficie/gatos,1)) #Logica = redondeame 'round' la superficie que hay por gatos Y muéstrame un decimal solo"
   ]
  },
  {
   "cell_type": "code",
   "execution_count": null,
   "metadata": {},
   "outputs": [
    {
     "data": {
      "text/plain": [
       "True"
      ]
     },
     "execution_count": 157,
     "metadata": {},
     "output_type": "execute_result"
    }
   ],
   "source": [
    "#24.¿Es verdad que hay más gatos que pizzas?\n",
    "\n",
    "#las comparaciones se hacen con booleanos\n",
    "\n",
    "gatos > pizza"
   ]
  },
  {
   "cell_type": "code",
   "execution_count": null,
   "metadata": {},
   "outputs": [
    {
     "name": "stdout",
     "output_type": "stream",
     "text": [
      "8\n",
      "2\n"
     ]
    }
   ],
   "source": [
    "print(gatos)\n",
    "print(pizza)"
   ]
  },
  {
   "cell_type": "code",
   "execution_count": null,
   "metadata": {},
   "outputs": [
    {
     "data": {
      "text/plain": [
       "True"
      ]
     },
     "execution_count": 158,
     "metadata": {},
     "output_type": "execute_result"
    }
   ],
   "source": [
    "#25. ¿Es verdad que hay menos gatos que superficie?\n",
    "gatos < superficie"
   ]
  },
  {
   "cell_type": "code",
   "execution_count": null,
   "metadata": {},
   "outputs": [
    {
     "name": "stdout",
     "output_type": "stream",
     "text": [
      "8\n",
      "81\n"
     ]
    }
   ],
   "source": [
    "print(gatos)\n",
    "print(superficie)"
   ]
  },
  {
   "cell_type": "code",
   "execution_count": null,
   "metadata": {},
   "outputs": [
    {
     "name": "stdout",
     "output_type": "stream",
     "text": [
      "4\n",
      "8\n"
     ]
    },
    {
     "data": {
      "text/plain": [
       "True"
      ]
     },
     "execution_count": 168,
     "metadata": {},
     "output_type": "execute_result"
    }
   ],
   "source": [
    "#26. ¿Es verdad que 2 veces la cantidad de pizzas es distinto de la cantidad de gatos?\n",
    "\n",
    "print(2*pizza)\n",
    "print(gatos)\n",
    "\n",
    "2 * pizza != gatos  #comparativa para cuando queremos saber si es DIFERENTE\n"
   ]
  },
  {
   "cell_type": "code",
   "execution_count": null,
   "metadata": {},
   "outputs": [
    {
     "data": {
      "text/plain": [
       "False"
      ]
     },
     "execution_count": 169,
     "metadata": {},
     "output_type": "execute_result"
    }
   ],
   "source": [
    "#27. ¿Es falso que 2 veces la cantidad de pizzas es igual a la cantidad de gatos?\n",
    "\n",
    "2* pizza == gatos # comparativa para cuando queremos saber si es IGUAL"
   ]
  },
  {
   "cell_type": "code",
   "execution_count": null,
   "metadata": {},
   "outputs": [
    {
     "name": "stdout",
     "output_type": "stream",
     "text": [
      "19\n",
      "2\n",
      "81\n"
     ]
    },
    {
     "data": {
      "text/plain": [
       "True"
      ]
     },
     "execution_count": 171,
     "metadata": {},
     "output_type": "execute_result"
    }
   ],
   "source": [
    "#28. La variable piezas, es mayor o igual a pizzas y superficie es distinto de cero?\n",
    "\n",
    "print(piezas)\n",
    "print(pizza)\n",
    "print(superficie)\n",
    "\n",
    "piezas >= pizza and superficie != 0  #dará TRUE si AMBOS son ciertos, si no dará FALSE"
   ]
  },
  {
   "cell_type": "code",
   "execution_count": 238,
   "metadata": {},
   "outputs": [
    {
     "data": {
      "text/plain": [
       "True"
      ]
     },
     "execution_count": 238,
     "metadata": {},
     "output_type": "execute_result"
    }
   ],
   "source": [
    "#29. La variable piezas, es mayor o igual a pizzas y menor que superficie?\n",
    "\n",
    "piezas >= pizza and piezas < superficie  #dará TRUE si AMBOS son ciertos, si no dará FALSE"
   ]
  },
  {
   "cell_type": "code",
   "execution_count": null,
   "metadata": {},
   "outputs": [
    {
     "name": "stdout",
     "output_type": "stream",
     "text": [
      "False\n",
      "False\n",
      "False\n",
      "3\n",
      "2.375\n"
     ]
    }
   ],
   "source": [
    "#30.Me interesa saber si hay más pizzas que gatos, o si el residuo de piezas por gato es cero.\n",
    "\n",
    "print((pizza > gatos) or  (piezas % gatos == 0))\n",
    "print(pizza > gatos)\n",
    "print (piezas % gatos == 0)\n",
    "\n",
    "print(piezas % gatos) #Resto de la división --> El resto es mayor a 0 por eso piezas % gatos es superior a 0 \n",
    "print(piezas/gatos) #División\n"
   ]
  },
  {
   "cell_type": "code",
   "execution_count": null,
   "metadata": {},
   "outputs": [
    {
     "data": {
      "text/plain": [
       "True"
      ]
     },
     "execution_count": 237,
     "metadata": {},
     "output_type": "execute_result"
    }
   ],
   "source": [
    "#31.Comprueba las comparaciones de 29. en una sola línea, sin usar la variable piezas más que una sola vez.\n",
    "\n",
    "pizza <= piezas < superficie  #el elemento en común que se está comparando en las dos formulas del ejercicio 29 se pone en el centro. \n",
    "                              #De esta manera, podemos comprarar \"piezas\" tanto con superficie como con pizza. \n",
    "\n"
   ]
  },
  {
   "cell_type": "code",
   "execution_count": 239,
   "metadata": {},
   "outputs": [
    {
     "name": "stdout",
     "output_type": "stream",
     "text": [
      "True\n"
     ]
    }
   ],
   "source": [
    "#32. Comprueba si superficie es diferente a cero sin usar !=.\n",
    "\n",
    "\"\"\"CORRECTO\"\"\"\n",
    "\n",
    "print(bool(superficie)) #función \"bool\" "
   ]
  },
  {
   "cell_type": "code",
   "execution_count": null,
   "metadata": {},
   "outputs": [
    {
     "name": "stdout",
     "output_type": "stream",
     "text": [
      "False\n"
     ]
    }
   ],
   "source": [
    "print(bool(0)) #la función bool dará False con 0 o vacio"
   ]
  },
  {
   "cell_type": "code",
   "execution_count": null,
   "metadata": {},
   "outputs": [],
   "source": [
    "\"\"\"VER CON ROCIO\"\"\"\n",
    "\"\"\"\"Respuesta correcta: dia_cumple = input(\"Introduce tu día de cumpleaños: \").strip()\"\"\" \n",
    "# ¿Porq qué hay que añadir .strip()? Lo indica en la pregunta 35. ¿por qué se añade al final? ¿si fuese int también? No entiendo muy bien como funcionan\n",
    "#strip es lo mismo que ¿str?  -> NO. Str es convertir algo a tipo texto. Strip sirve para quitar los espacios delante y detrás. \n",
    "#int --> por defecto cuando preguntas algo la variable la entiende como texto, \n",
    "#         para poder convertirlo hay que hacerlo --> int(variable)  // int(numero+decimal) // int(input(\"\")) --> el orden DE LECTURA es de dentro a fuera)\n",
    "#float\n",
    "\n",
    "\n",
    "#33. Usa input() para preguntar a un usuario el día de su cumpleaños y guarda la respuesta en la variable dia_cumple.\n",
    "\n",
    "dia_cumple = input(\"¿Que DIA cumples años?\") "
   ]
  },
  {
   "cell_type": "code",
   "execution_count": null,
   "metadata": {},
   "outputs": [],
   "source": [
    "#34. Usa input() para preguntar a un usuario el mes de su cumpleaños y guarda la respuesta en la variable mes_cumple\n",
    "\n",
    "mes_cumple = input(\"¿qué mes cumples años?\")"
   ]
  },
  {
   "cell_type": "code",
   "execution_count": null,
   "metadata": {},
   "outputs": [],
   "source": [
    "#35. Usa .strip() en ambas de las variables definidas.\n",
    "\n",
    "\"\"\"se pone al final porque la función es .función\"\"\""
   ]
  },
  {
   "cell_type": "code",
   "execution_count": null,
   "metadata": {},
   "outputs": [],
   "source": [
    "\n",
    "#En ningún momento he indicado especificamente que sea TEXT str, pero por defecto lo es\n",
    "#cuando compruebo el tipo de variable que es fecha_cumple me dice que es Str... No entiendo qué he hecho mal\n",
    "\n",
    "#36. Haz que fecha_cumple sea un string compuesto por el día y el mes.\n",
    "\n",
    "fecha_cumple = dia_cumple + \" \" + mes_cumple # SE añade entre comillas vacio para que se separe la información \n"
   ]
  },
  {
   "cell_type": "code",
   "execution_count": null,
   "metadata": {},
   "outputs": [
    {
     "data": {
      "text/plain": [
       "str"
      ]
     },
     "execution_count": 210,
     "metadata": {},
     "output_type": "execute_result"
    }
   ],
   "source": [
    "type(fecha_cumple)"
   ]
  },
  {
   "cell_type": "code",
   "execution_count": null,
   "metadata": {},
   "outputs": [
    {
     "name": "stdout",
     "output_type": "stream",
     "text": [
      "Fecha de cumpleaños es 29 ABRIL\n"
     ]
    }
   ],
   "source": [
    "#37. Imprime Fecha de cumpleaños es más el día y el mes.\n",
    "\n",
    "print(\"Fecha de cumpleaños es \" + fecha_cumple) #SIEMPRE hay que añadir \"+\" cuando queremos frase + variable ..."
   ]
  },
  {
   "cell_type": "code",
   "execution_count": null,
   "metadata": {},
   "outputs": [
    {
     "data": {
      "text/plain": [
       "'CUATRO'"
      ]
     },
     "execution_count": 215,
     "metadata": {},
     "output_type": "execute_result"
    }
   ],
   "source": [
    "#38. Imprime la variable perros en todas mayúsculas.\n",
    "\n",
    "perros.upper()"
   ]
  }
 ],
 "metadata": {
  "kernelspec": {
   "display_name": "base",
   "language": "python",
   "name": "python3"
  },
  "language_info": {
   "codemirror_mode": {
    "name": "ipython",
    "version": 3
   },
   "file_extension": ".py",
   "mimetype": "text/x-python",
   "name": "python",
   "nbconvert_exporter": "python",
   "pygments_lexer": "ipython3",
   "version": "3.12.7"
  }
 },
 "nbformat": 4,
 "nbformat_minor": 2
}
