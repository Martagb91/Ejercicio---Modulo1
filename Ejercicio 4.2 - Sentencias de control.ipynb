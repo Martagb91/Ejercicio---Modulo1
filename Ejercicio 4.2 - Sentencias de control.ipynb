{
 "cells": [
  {
   "cell_type": "markdown",
   "metadata": {},
   "source": [
    " # EJERCICIO SENTENCIAS DE CONTROL"
   ]
  },
  {
   "cell_type": "code",
   "execution_count": 1,
   "metadata": {},
   "outputs": [],
   "source": [
    "#1. Crea las siguientes variables:\n",
    "\n",
    "\"\"\"var1 sea un número con el valor 8.\n",
    "\n",
    "var2 sea un número con el valor 2.\n",
    "\n",
    "var3 sea un número con el valor 8\"\"\"\n",
    "\n",
    "var1 = 8\n",
    "var2 = 2\n",
    "var3 = 8"
   ]
  },
  {
   "cell_type": "code",
   "execution_count": 10,
   "metadata": {},
   "outputs": [
    {
     "name": "stdout",
     "output_type": "stream",
     "text": [
      "¡Es Enorme!\n"
     ]
    }
   ],
   "source": [
    "#2. Comprueba si var1 es mayor que 6, y si es así imprime ¡Es enorme!\n",
    "\n",
    "if var1 > 6:\n",
    "    print(\"¡Es Enorme!\")\n",
    "else:\n",
    "    print(\"no es enorme\")\n"
   ]
  },
  {
   "cell_type": "code",
   "execution_count": 11,
   "metadata": {},
   "outputs": [
    {
     "name": "stdout",
     "output_type": "stream",
     "text": [
      "no es enorme\n"
     ]
    }
   ],
   "source": [
    "#3. Comprueba si var2 es mayor que 6, y si es así imprime ¡Es enorme también!\n",
    "\n",
    "if var2 > 6:\n",
    "    print(\"¡Es Enorme también!\")\n",
    "else:\n",
    "    print(\"no es enorme\")"
   ]
  },
  {
   "cell_type": "code",
   "execution_count": 7,
   "metadata": {},
   "outputs": [
    {
     "name": "stdout",
     "output_type": "stream",
     "text": [
      "¡Es Enorme también!\n",
      "¡Pero de verdad!\n"
     ]
    }
   ],
   "source": [
    "#4. Comprueba si var3 es mayor que 6, \n",
    "#   y si es así imprime ¡Es enorme! seguido por ¡Pero de verdad! en otra línea (deberéis tener dos print).\n",
    "\n",
    "if var3 > 6:\n",
    "    print(\"¡Es Enorme también!\")\n",
    "    print(\"¡Pero de verdad!\")"
   ]
  },
  {
   "cell_type": "code",
   "execution_count": 12,
   "metadata": {},
   "outputs": [
    {
     "name": "stdout",
     "output_type": "stream",
     "text": [
      "son iguales\n"
     ]
    }
   ],
   "source": [
    "#5. Comprueba si var1 es igual que var3, y si es así imprime Son iguales.\n",
    "\n",
    "if var1 == var3:\n",
    "    print(\"son iguales\")\n",
    "else: \n",
    "    print(\"no lo son\")"
   ]
  },
  {
   "cell_type": "code",
   "execution_count": 13,
   "metadata": {},
   "outputs": [
    {
     "name": "stdout",
     "output_type": "stream",
     "text": [
      "no lo son\n"
     ]
    }
   ],
   "source": [
    "#6. Comprueba si var1 es igual que var2, y si es así imprime Son iguales.\n",
    "\n",
    "if var1 == var2:\n",
    "    print(\"son iguales\")\n",
    "else: \n",
    "    print(\"no lo son\")"
   ]
  },
  {
   "cell_type": "code",
   "execution_count": 17,
   "metadata": {},
   "outputs": [
    {
     "name": "stdout",
     "output_type": "stream",
     "text": [
      "la diferencia es 6\n"
     ]
    }
   ],
   "source": [
    "#7. Comprueba si var1 es mayor o igual que var2, y si es así calcula la diferencia entre var1 y var2, \n",
    "#   guárdala en la variable dif, e imprime 'La diferencia es',dif\n",
    "\n",
    "if var1 >= var2:\n",
    "    dif = var1 - var2\n",
    "    print(f\"la diferencia es {dif}\")"
   ]
  },
  {
   "cell_type": "code",
   "execution_count": 18,
   "metadata": {},
   "outputs": [
    {
     "name": "stdout",
     "output_type": "stream",
     "text": [
      "¡Es enorme!\n"
     ]
    }
   ],
   "source": [
    "#8. Comprueba si var1 es mayor que 6, y si es así imprime ¡Es enorme!. Si no es así imprime Es chiquitín. \n",
    "\n",
    "if var1 > 6:\n",
    "    print(\"¡Es enorme!\")\n",
    "else: \n",
    "    print(\"es chiquitin\")"
   ]
  },
  {
   "cell_type": "code",
   "execution_count": 19,
   "metadata": {},
   "outputs": [
    {
     "name": "stdout",
     "output_type": "stream",
     "text": [
      "es chiquitin\n"
     ]
    }
   ],
   "source": [
    "#9. Comprueba si var2 es mayor que 6, y si es así imprime ¡Es enorme también!. \n",
    "#   Si no es así imprime Es chiquitín también.\n",
    "\n",
    "if var2 > 6:\n",
    "    print(\"¡Es enorme también\")\n",
    "else: \n",
    "    print(\"es chiquitin\")"
   ]
  },
  {
   "cell_type": "code",
   "execution_count": 20,
   "metadata": {},
   "outputs": [
    {
     "name": "stdout",
     "output_type": "stream",
     "text": [
      "son iguales\n"
     ]
    }
   ],
   "source": [
    "#10. Comprueba si var1 es igual a var3, y si es así imprime Son iguales. Si no es así imprime Son distintos.\n",
    "\n",
    "if var1 == var3:\n",
    "    print(\"son iguales\")\n",
    "else:\n",
    "    print(\"son distintos\")"
   ]
  },
  {
   "cell_type": "code",
   "execution_count": 27,
   "metadata": {},
   "outputs": [
    {
     "name": "stdout",
     "output_type": "stream",
     "text": [
      "pagas 5€\n"
     ]
    }
   ],
   "source": [
    "#11. Escribe un programa para una empresa que tiene salas de juegos para todas las edades \n",
    "#    y quiere calcular de forma automática el precio que debe cobrar a sus clientes por entrar. \n",
    "\"\"\"El programa debe preguntar al usuario:\"\"\"\n",
    "\n",
    "# - La edad del cliente.\n",
    "\n",
    "edad_cliente = int(input(\"¿qué edad tienes?\"))\n",
    "\n",
    "\"\"\" Las condiciones que tendremos que chequear: \"\"\"\n",
    "\n",
    "# - Si el cliente es menor de 4 años puede entrar gratis,\n",
    "\n",
    "# - Si tiene entre 4 y 18 años debe pagar 5€ y\n",
    "\n",
    "# - Si es mayor de 18 años, 10€.\"\"\"\n",
    "\n",
    "if edad_cliente < 4: \n",
    "    print(\"entras gratis\")\n",
    "elif 4 < edad_cliente < 18: \n",
    "    print(\"pagas 5€\")\n",
    "else: \n",
    "    print(\"pagas 10€\")"
   ]
  },
  {
   "cell_type": "code",
   "execution_count": 2,
   "metadata": {},
   "outputs": [
    {
     "name": "stdout",
     "output_type": "stream",
     "text": [
      "tienes estos ahorros 5\n",
      "tienes estos ahorros 6\n",
      "tienes estos ahorros 7\n",
      "tienes estos ahorros 8\n",
      "tienes estos ahorros 9\n",
      "tienes estos ahorros 10\n",
      "tienes estos ahorros 11\n",
      "tienes estos ahorros 12\n",
      "tienes estos ahorros 13\n",
      "tienes estos ahorros 14\n",
      "tienes estos ahorros 15\n",
      "tienes estos ahorros 16\n",
      "tienes estos ahorros 17\n",
      "tienes estos ahorros 18\n",
      "tienes estos ahorros 19\n",
      "tienes estos ahorros 20\n",
      "ya has llegado a 21. ¡Bien hecho!\n"
     ]
    }
   ],
   "source": [
    "#12. \n",
    "# - Inicia la variable ahorros con un valor de 5. \n",
    "#-  Crea un bucle while que mientras los ahorros sean igual o menor que 20\n",
    "#   imprima por pantalla la cantidad de ahorros que tenemos, y añádele 5 más. \n",
    "#-  Cuando la variable ahorros supere el valor de 20 el bucle deberá parar.\n",
    "\n",
    "ahorros = 5\n",
    "\n",
    "while ahorros <= 20:\n",
    "  \n",
    "    print(f\"tienes estos ahorros {ahorros}\")\n",
    "    ahorros +=1\n",
    "print(f\"ya has llegado a {ahorros}. ¡Bien hecho!\")\n"
   ]
  },
  {
   "cell_type": "code",
   "execution_count": null,
   "metadata": {},
   "outputs": [],
   "source": [
    "#13. Escribe un programa que convierta grados Celsius a grados Fahrenheit o viceversa, \n",
    "#    según la elección del usuario. Para eso tendrás que preguntar:"
   ]
  },
  {
   "cell_type": "code",
   "execution_count": 15,
   "metadata": {},
   "outputs": [],
   "source": [
    "\"\"\"13.1 Desde que unidades va a convertir la temperatura, Celsius o Fahrenheit.\"\"\"\n",
    "programa_temperatura = (input(\"¿desde qué unidades vas a convertir la temperatura, Celsius o Fahrenheit?\")).lower().strip()"
   ]
  },
  {
   "cell_type": "code",
   "execution_count": 16,
   "metadata": {},
   "outputs": [
    {
     "data": {
      "text/plain": [
       "'grados'"
      ]
     },
     "execution_count": 16,
     "metadata": {},
     "output_type": "execute_result"
    }
   ],
   "source": [
    "\"\"\"13.2 - Cuál es valor de la temperatura que quiere convertir.\"\"\"\n",
    "\n",
    "programa_temperatura"
   ]
  },
  {
   "cell_type": "code",
   "execution_count": 17,
   "metadata": {},
   "outputs": [
    {
     "name": "stdout",
     "output_type": "stream",
     "text": [
      "Las unidades solo pueden ser: Celsius o fahrenheit, escribe una de las dos\n"
     ]
    }
   ],
   "source": [
    "if programa_temperatura == \"celsius\":\n",
    "    print(\"fahrenheit\")\n",
    "elif programa_temperatura == \"fahrenheit\":\n",
    "    print(\"celsius\")\n",
    "else:\n",
    "    print(\"Las unidades solo pueden ser: Celsius o fahrenheit, escribe una de las dos\")"
   ]
  },
  {
   "cell_type": "code",
   "execution_count": 123,
   "metadata": {},
   "outputs": [],
   "source": [
    "#14. Crea un programa que calcule el impuesto sobre la renta de una persona basado en \n",
    "#    su ingreso anual y su estado civil (soltero o casado). Para eso deberás:\n",
    "\n",
    "\n",
    "#14.1 Solicitar al usuario su ingreso anual.\n",
    "\n",
    "ingreso_anual = int(input(\"dinos tu ingreso anual - escribe solo el número\"))"
   ]
  },
  {
   "cell_type": "code",
   "execution_count": 102,
   "metadata": {},
   "outputs": [
    {
     "data": {
      "text/plain": [
       "18000"
      ]
     },
     "execution_count": 102,
     "metadata": {},
     "output_type": "execute_result"
    }
   ],
   "source": [
    "ingreso_anual"
   ]
  },
  {
   "cell_type": "code",
   "execution_count": 88,
   "metadata": {},
   "outputs": [
    {
     "data": {
      "text/plain": [
       "int"
      ]
     },
     "execution_count": 88,
     "metadata": {},
     "output_type": "execute_result"
    }
   ],
   "source": [
    "type(ingreso_anual)"
   ]
  },
  {
   "cell_type": "code",
   "execution_count": 121,
   "metadata": {},
   "outputs": [],
   "source": [
    "#14.2 Preguntar al usuario su estado civil, permitiendo dos opciones: \"soltero\" (S) o \"casado\" (C).\n",
    "\n",
    "estado_civil = input(\"¿Cual es tu estado civil? 'soltero' (S) o 'casado' (C)\").upper()"
   ]
  },
  {
   "cell_type": "code",
   "execution_count": 50,
   "metadata": {},
   "outputs": [
    {
     "data": {
      "text/plain": [
       "'S'"
      ]
     },
     "execution_count": 50,
     "metadata": {},
     "output_type": "execute_result"
    }
   ],
   "source": [
    "estado_civil"
   ]
  },
  {
   "cell_type": "code",
   "execution_count": 124,
   "metadata": {},
   "outputs": [
    {
     "name": "stdout",
     "output_type": "stream",
     "text": [
      "C\n",
      "68000\n",
      "impuesto es 7763.0 euros \n"
     ]
    }
   ],
   "source": [
    "#14.3 Calcular el impuesto sobre la renta utilizando las siguientes reglas:\n",
    "\n",
    "\"\"\"- Si el estado civil es \"soltero\" (S):\"\"\"\n",
    "#      - Si el ingreso anual es menor o igual a $9,875, el impuesto es el 10% del ingreso anual.\n",
    "#      - Si el ingreso anual está entre $9,876 y $40,125, \n",
    "#        el impuesto es el 10% de los primeros $9,875 más el 12% de la cantidad que excede los $9,875.\n",
    "\n",
    "\"\"\"- Si el estado civil es \"casado\" (C):\"\"\"\n",
    "#       - Si el ingreso anual es menor o igual a $19,850, el impuesto es el 10% del ingreso anual.\n",
    "#       - Si el ingreso anual está entre $19,851 y $80,250, \n",
    "#         el impuesto es el 10% de los primeros $19,850 más el 12% de la cantidad que excede los $19,850.\n",
    "\n",
    "print(estado_civil)\n",
    "print(ingreso_anual)\n",
    "\n",
    "if estado_civil == \"S\":\n",
    "    if ingreso_anual <= 9875: #ingreso anual más pequeño o igual a 9.875\n",
    "        impuesto = ingreso_anual * 0.10\n",
    "        print(f\"impuesto es {impuesto} euros\")\n",
    "    elif 9875 < ingreso_anual < 40125: #ingreso anual está entre 9876 & 40125\n",
    "        if ingreso_anual == 9876: #si el ingreso es igual a 9876\n",
    "            impuesto = ingreso_anual * 0.10\n",
    "            print(f\"impuesto es {impuesto} euros \")\n",
    "        elif 9875 < ingreso_anual < 40125:\n",
    "            impuesto = (9786 * 0.10) + ((ingreso_anual - 9786 )*0.12)\n",
    "            print(f\"impuesto es {impuesto} euros \")\n",
    "    else:\n",
    "        print(\"no has ingresado bien el número, vuelve a intentarlo\")\n",
    "\n",
    "if estado_civil == \"C\":\n",
    "    if ingreso_anual <= 19850: #ingreso anual más pequeño o igual a 19,850\n",
    "        impuesto = ingreso_anual * 0.10\n",
    "        print(f\"impuesto es {impuesto} euros\")\n",
    "    elif 19850 < ingreso_anual < 80250: #ingreso anual está entre 9876 & 40125\n",
    "        if ingreso_anual == 19850: #si el ingreso es igual a 9876\n",
    "            impuesto = ingreso_anual * 0.10\n",
    "            print(f\"impuesto es {impuesto} euros \")\n",
    "        elif 9875 < ingreso_anual < 80250:\n",
    "            impuesto = (19850 * 0.10) + ((ingreso_anual - 19850 )*0.12)\n",
    "            print(f\"impuesto es {impuesto} euros \")\n",
    "    else:\n",
    "        print(\"no has ingresado bien el número, vuelve a intentarlo\")\n",
    "\n",
    "    "
   ]
  },
  {
   "cell_type": "code",
   "execution_count": null,
   "metadata": {},
   "outputs": [],
   "source": []
  },
  {
   "cell_type": "code",
   "execution_count": null,
   "metadata": {},
   "outputs": [],
   "source": []
  },
  {
   "cell_type": "code",
   "execution_count": 139,
   "metadata": {},
   "outputs": [
    {
     "name": "stdout",
     "output_type": "stream",
     "text": [
      "156\n",
      "El aire es 'NO SALUDABLE'\n",
      "Tome precaución, la concentración de PM2.5 en el aire es 156. Puede ocasionar posibles efectos en la salud \n"
     ]
    }
   ],
   "source": [
    "#15. Crea un programa que evalúe el nivel de contaminación del aire en función de la concentración de partículas \n",
    "#    en suspensión (PM2.5) en microgramos por metro cúbico (µg/m³). Para eso deberás:\n",
    "\n",
    "\"\"\"1.  Solicita al usuario que ingrese la concentración de PM2.5 en el aire en µg/m³. \n",
    "         El usuario debe ingresar un valor numérico.\"\"\"\n",
    "\n",
    "concentracion_pm25 = int(input(\"ingrese la concentración de PM2.5 en el aire en µg/m³\"))\n",
    "\n",
    "\"\"\" \n",
    "2.  Evalúa el nivel de contaminación del aire según la siguiente escala:\n",
    "\n",
    "  -  Si la concentración de PM2.5 es menor o igual a 12 µg/m³, el aire se considera \"Excelente\".\n",
    "  -  Si la concentración de PM2.5 está entre 13 µg/m³ y 35 µg/m³, el aire se considera \"Bueno\".\n",
    "  -  Si la concentración de PM2.5 está entre 36 µg/m³ y 55 µg/m³, el aire se considera \"Aceptable\".\n",
    "  -  Si la concentración de PM2.5 está entre 56 µg/m³ y 150 µg/m³, el aire se considera \"No Saludable para Grupos Sensibles\".\n",
    "  -  Si la concentración de PM2.5 es mayor a 150 µg/m³, el aire se considera \"No Saludable\".\n",
    "\n",
    "3. Muestra un mensaje indicando el estado de la calidad del aire. \n",
    "   Por ejemplo, si la concentración de PM2.5 es 25 µg/m³, el programa debe mostrar: \"La calidad del aire es Buena\" \n",
    "   \n",
    "4. Además, si la concentración de PM2.5 está en la categoría \"No Saludable para Grupos Sensibles\" o \"No Saludable\", \n",
    "   el programa debe advertir al usuario sobre los posibles efectos en la salud.\n",
    "   \n",
    "5. Si la concentración ingresada por el usuario es negativa o no es un número válido, el programa debe mostrar un mensaje de error.\"\"\"\n",
    "\n",
    "print(concentracion_pm25)\n",
    "\n",
    "if concentracion_pm25 < 0:\n",
    "    print(\"ERROR: debe indicar un número positivo o su número no es válido \")\n",
    "elif concentracion_pm25 <= 12:\n",
    "    print(\"el aire es 'Excelente'\")\n",
    "elif 13 < concentracion_pm25 < 35:\n",
    "    print(\"El aire es 'bueno'\")\n",
    "elif 36 < concentracion_pm25 < 55:\n",
    "    print(\"El aire es 'Aceptable'\")\n",
    "elif 56 < concentracion_pm25 < 150:\n",
    "    print(\"El aire es 'No saludable para Grupos Sensibles'\")\n",
    "    print(f\"Tome precaución, la concentración de PM2.5 en el aire es {concentracion_pm25}. Puede ocasionar posibles efectos en la salud \")\n",
    "else:\n",
    "    print(\"El aire es 'NO SALUDABLE'\")\n",
    "    print(f\"Tome precaución, la concentración de PM2.5 en el aire es {concentracion_pm25}. Puede ocasionar posibles efectos en la salud \")\n"
   ]
  }
 ],
 "metadata": {
  "kernelspec": {
   "display_name": "base",
   "language": "python",
   "name": "python3"
  },
  "language_info": {
   "codemirror_mode": {
    "name": "ipython",
    "version": 3
   },
   "file_extension": ".py",
   "mimetype": "text/x-python",
   "name": "python",
   "nbconvert_exporter": "python",
   "pygments_lexer": "ipython3",
   "version": "3.12.7"
  }
 },
 "nbformat": 4,
 "nbformat_minor": 2
}
