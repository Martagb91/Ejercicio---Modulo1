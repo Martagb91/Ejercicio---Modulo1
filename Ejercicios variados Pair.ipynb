{
 "cells": [
  {
   "cell_type": "markdown",
   "metadata": {},
   "source": [
    "# EJERCICIOS VARIADOS"
   ]
  },
  {
   "cell_type": "markdown",
   "metadata": {},
   "source": [
    " ## BUCLES FOR"
   ]
  },
  {
   "cell_type": "code",
   "execution_count": null,
   "metadata": {},
   "outputs": [
    {
     "name": "stdout",
     "output_type": "stream",
     "text": [
      "1\n",
      "2\n",
      "3\n",
      "4\n",
      "5\n"
     ]
    }
   ],
   "source": [
    "#1.\n",
    "\n",
    "for i in range(1,6):\n",
    "    print(i)"
   ]
  },
  {
   "cell_type": "code",
   "execution_count": null,
   "metadata": {},
   "outputs": [
    {
     "name": "stdout",
     "output_type": "stream",
     "text": [
      "1\n",
      "3\n",
      "6\n",
      "10\n",
      "15\n",
      "21\n",
      "28\n",
      "36\n",
      "45\n",
      "55\n",
      "55\n"
     ]
    }
   ],
   "source": [
    "#2. \n",
    "\n",
    "suma = 0\n",
    "for i in range(1,11):\n",
    "    suma += i  # suma = suma + i\n",
    "    print(suma) #te imprime el bucle\n",
    "\n",
    "print(suma) #te imprime el resultado final"
   ]
  },
  {
   "cell_type": "code",
   "execution_count": 1,
   "metadata": {},
   "outputs": [
    {
     "name": "stdout",
     "output_type": "stream",
     "text": [
      "1\n",
      "2\n",
      "6\n",
      "24\n",
      "120\n",
      "720\n",
      "5040\n",
      "40320\n",
      "362880\n",
      "3628800\n"
     ]
    }
   ],
   "source": [
    "lista_productos = [1,2,3,4,5,6,7,8,9,10]\n",
    "producto = 1\n",
    "\n",
    "\n",
    "for i in lista_productos:\n",
    "    producto *= i \n",
    "    print(producto)"
   ]
  },
  {
   "cell_type": "code",
   "execution_count": 2,
   "metadata": {},
   "outputs": [
    {
     "name": "stdout",
     "output_type": "stream",
     "text": [
      "A\n",
      "D\n",
      "A\n",
      "L\n",
      "A\n",
      "B\n"
     ]
    }
   ],
   "source": [
    "#4\n",
    "\n",
    "variable = \"ADALAB\"\n",
    "\n",
    "for i in variable:\n",
    "    print(i)"
   ]
  },
  {
   "cell_type": "code",
   "execution_count": 3,
   "metadata": {},
   "outputs": [
    {
     "name": "stdout",
     "output_type": "stream",
     "text": [
      "2\n",
      "4\n",
      "6\n",
      "8\n",
      "10\n",
      "12\n",
      "14\n",
      "16\n",
      "18\n",
      "20\n",
      "22\n",
      "24\n",
      "26\n",
      "28\n",
      "30\n",
      "32\n",
      "34\n",
      "36\n",
      "38\n",
      "40\n",
      "42\n",
      "44\n",
      "46\n",
      "48\n",
      "50\n",
      "52\n",
      "54\n",
      "56\n",
      "58\n",
      "60\n",
      "62\n",
      "64\n",
      "66\n",
      "68\n",
      "70\n",
      "72\n",
      "74\n",
      "76\n",
      "78\n",
      "80\n",
      "82\n",
      "84\n",
      "86\n",
      "88\n",
      "90\n",
      "92\n",
      "94\n",
      "96\n",
      "98\n",
      "100\n"
     ]
    }
   ],
   "source": [
    "#5. \n",
    "\n",
    "for i in range(1,101):\n",
    "    if i % 2 == 0:\n",
    "        print(i)"
   ]
  },
  {
   "cell_type": "code",
   "execution_count": 5,
   "metadata": {},
   "outputs": [
    {
     "name": "stdout",
     "output_type": "stream",
     "text": [
      "2\n",
      "3\n",
      "4\n",
      "5\n",
      "6\n",
      "7\n",
      "8\n",
      "9\n",
      "10\n",
      "11\n",
      "12\n",
      "13\n",
      "14\n",
      "15\n",
      "16\n",
      "17\n",
      "18\n",
      "19\n",
      "20\n",
      "21\n",
      "22\n",
      "23\n",
      "24\n",
      "25\n",
      "26\n",
      "27\n",
      "28\n",
      "29\n",
      "30\n",
      "31\n",
      "32\n",
      "33\n",
      "34\n",
      "35\n",
      "36\n",
      "37\n",
      "38\n",
      "39\n",
      "40\n",
      "41\n",
      "42\n",
      "43\n",
      "44\n",
      "45\n",
      "46\n",
      "47\n",
      "48\n",
      "49\n",
      "50\n"
     ]
    }
   ],
   "source": [
    "#6. \n",
    "\n",
    "for i in range(2,51):\n",
    "    if i % i == 0 and i % 1 == 0: \n",
    "        print(i)"
   ]
  },
  {
   "cell_type": "code",
   "execution_count": 16,
   "metadata": {},
   "outputs": [
    {
     "name": "stdout",
     "output_type": "stream",
     "text": [
      "1\n",
      "2\n",
      "6\n",
      "24\n",
      "120\n",
      "720\n",
      "720\n"
     ]
    }
   ],
   "source": [
    "#7.\n",
    "\n",
    "\n",
    "#ejemplo: 6!= 1*2*3*4*5*6= 720\n",
    "\n",
    "variable = 1\n",
    "\n",
    "for i in range(1,7):   # i=1 ; i=2, i=3... \n",
    "    variable = variable * i \n",
    "    print(variable)\n",
    "\n",
    "    #1(n=1)*(1+n)*(2+n)*4*5*6\n",
    "    \n",
    "print(variable)\n"
   ]
  },
  {
   "cell_type": "code",
   "execution_count": 22,
   "metadata": {},
   "outputs": [
    {
     "name": "stdout",
     "output_type": "stream",
     "text": [
      "3\n",
      "6\n",
      "18\n",
      "18\n"
     ]
    }
   ],
   "source": [
    "variable = int(input(\"dame un numero\"))\n",
    "\n",
    "for i in range(1,4):   # i=1 ; i=2, i=3... \n",
    "    variable = variable * i \n",
    "    print(variable)\n",
    "\n",
    "    #1(n=1)*(1+n)*(2+n)*4*5*6\n",
    "    \n",
    "print(variable)"
   ]
  },
  {
   "cell_type": "code",
   "execution_count": null,
   "metadata": {},
   "outputs": [
    {
     "name": "stdout",
     "output_type": "stream",
     "text": [
      "felicidades\n",
      "felicidades\n",
      "felicidades\n"
     ]
    }
   ],
   "source": [
    "palabra = \"Lista\"\n",
    "\n",
    "adivina_palabra = input(\"¿Adivina que estoy pensando?\")\n",
    "\n",
    "for i in adivina_palabra:\n",
    "    while i != \"lista\":\n",
    "        i = input(\"¿Adivina que estoy pensando?\")\n",
    "        adivina_palabra == palabra\n",
    "        print (\"felicidades\")\n"
   ]
  }
 ],
 "metadata": {
  "kernelspec": {
   "display_name": "base",
   "language": "python",
   "name": "python3"
  },
  "language_info": {
   "codemirror_mode": {
    "name": "ipython",
    "version": 3
   },
   "file_extension": ".py",
   "mimetype": "text/x-python",
   "name": "python",
   "nbconvert_exporter": "python",
   "pygments_lexer": "ipython3",
   "version": "3.12.7"
  }
 },
 "nbformat": 4,
 "nbformat_minor": 2
}
