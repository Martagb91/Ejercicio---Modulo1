{
 "cells": [
  {
   "cell_type": "markdown",
   "metadata": {},
   "source": [
    "# Sentencias de control -> Bucles for"
   ]
  },
  {
   "cell_type": "markdown",
   "metadata": {},
   "source": [
    "#1. Usando la siguiente lista:\n",
    "**temperaturas = [2,45,67,23, 45,66,12,1,34,67,99,98,67,64, 44, 100]**\n",
    "\n",
    "Crea tres listas nuevas, donde:\n",
    "- En la primera tengamos temperaturas entre 0 - 10, llama a la nueva lista **bajas_temp**.\n",
    "- En la segunda tengamos temperaturas entre 11- 20, llama a la nueva lista **medias_temp**.\n",
    "- En la tercera tengamos temperaturas por encima de 20, llama a la nueva lista **altas_temp**."
   ]
  },
  {
   "cell_type": "code",
   "execution_count": 2,
   "metadata": {},
   "outputs": [
    {
     "name": "stdout",
     "output_type": "stream",
     "text": [
      "[2, 1]\n",
      "[12]\n",
      "[45, 67, 23, 45, 66, 34, 67, 99, 98, 67, 64, 44, 100]\n"
     ]
    }
   ],
   "source": [
    "temperaturas = [2,45,67,23, 45,66,12,1,34,67,99,98,67,64, 44, 100]\n",
    "bajas_temp = []\n",
    "medias_temp = []\n",
    "altas_temp = []\n",
    "\n",
    "for grados in temperaturas:\n",
    "    if 0 < grados <= 10:\n",
    "        bajas_temp.append(grados)\n",
    "    elif 11 < grados <= 20:\n",
    "        medias_temp.append(grados)\n",
    "    else:\n",
    "        altas_temp.append(grados)\n",
    "print(bajas_temp)\n",
    "print(medias_temp)\n",
    "print(altas_temp)"
   ]
  },
  {
   "cell_type": "markdown",
   "metadata": {},
   "source": [
    "#2. Las temperaturas están grados centígrados. Para cada una de las listas creadas en el ejercicio anterior, convertid las temperaturas a grados fahrenheit.\n",
    "- *la relacion de grados celsius y fahrenheit es:*\n",
    "*(0 °C × 9 / 5) + 32 = 32 °F*"
   ]
  },
  {
   "cell_type": "code",
   "execution_count": 3,
   "metadata": {},
   "outputs": [
    {
     "name": "stdout",
     "output_type": "stream",
     "text": [
      "[35.6, 33.8]\n"
     ]
    }
   ],
   "source": [
    "bajas_temp_f = []\n",
    "\n",
    "for grados in bajas_temp:\n",
    "    bajas_temp_f.append((grados*9/5)+32)\n",
    "print(bajas_temp_f)"
   ]
  },
  {
   "cell_type": "code",
   "execution_count": 4,
   "metadata": {},
   "outputs": [
    {
     "name": "stdout",
     "output_type": "stream",
     "text": [
      "[53.6]\n"
     ]
    }
   ],
   "source": [
    "medias_temp_f = []\n",
    "\n",
    "for grados in medias_temp:\n",
    "    medias_temp_f.append((grados*9/5)+32)\n",
    "print(medias_temp_f)"
   ]
  },
  {
   "cell_type": "code",
   "execution_count": 5,
   "metadata": {},
   "outputs": [
    {
     "name": "stdout",
     "output_type": "stream",
     "text": [
      "[113.0, 152.6, 73.4, 113.0, 150.8, 93.2, 152.6, 210.2, 208.4, 152.6, 147.2, 111.2, 212.0]\n"
     ]
    }
   ],
   "source": [
    "altas_temp_f = []\n",
    "\n",
    "for grados in altas_temp:\n",
    "    altas_temp_f.append((grados*9/5)+32)\n",
    "print(altas_temp_f)"
   ]
  },
  {
   "cell_type": "markdown",
   "metadata": {},
   "source": [
    "#3. Define e imprime un rango de 0 a 6 (excluido)."
   ]
  },
  {
   "cell_type": "code",
   "execution_count": 6,
   "metadata": {},
   "outputs": [
    {
     "name": "stdout",
     "output_type": "stream",
     "text": [
      "0\n",
      "1\n",
      "2\n",
      "3\n",
      "4\n",
      "5\n"
     ]
    }
   ],
   "source": [
    "for i in range(6):\n",
    "    print(i)"
   ]
  },
  {
   "cell_type": "markdown",
   "metadata": {},
   "source": [
    "#4. Define e imprime un rango de 3 a 6 ambos incluidos."
   ]
  },
  {
   "cell_type": "code",
   "execution_count": 7,
   "metadata": {},
   "outputs": [
    {
     "name": "stdout",
     "output_type": "stream",
     "text": [
      "3\n",
      "4\n",
      "5\n",
      "6\n"
     ]
    }
   ],
   "source": [
    "for i in range(3,7):\n",
    "    print(i)"
   ]
  },
  {
   "cell_type": "markdown",
   "metadata": {},
   "source": [
    "#5. Define e imprime un rango de 5 a 9 ambos excluidos."
   ]
  },
  {
   "cell_type": "code",
   "execution_count": 8,
   "metadata": {},
   "outputs": [
    {
     "name": "stdout",
     "output_type": "stream",
     "text": [
      "6\n",
      "7\n",
      "8\n"
     ]
    }
   ],
   "source": [
    "for i in range(6,9):\n",
    "    print(i)"
   ]
  },
  {
   "cell_type": "markdown",
   "metadata": {},
   "source": [
    "#6. Define e imprime un rango de 3 números que empiece en 2."
   ]
  },
  {
   "cell_type": "code",
   "execution_count": 9,
   "metadata": {},
   "outputs": [
    {
     "name": "stdout",
     "output_type": "stream",
     "text": [
      "2\n",
      "4\n",
      "6\n"
     ]
    }
   ],
   "source": [
    "for i in range(2,7,2):\n",
    "    print(i)"
   ]
  },
  {
   "cell_type": "markdown",
   "metadata": {},
   "source": [
    "#7. Define e imprime un rango que empiece en 2, aumentando cada paso por 3, que pare antes de llegar al número 13."
   ]
  },
  {
   "cell_type": "code",
   "execution_count": 10,
   "metadata": {},
   "outputs": [
    {
     "name": "stdout",
     "output_type": "stream",
     "text": [
      "2\n",
      "5\n",
      "8\n",
      "11\n"
     ]
    }
   ],
   "source": [
    "for i in range(2,13,3):\n",
    "    print(i)"
   ]
  },
  {
   "cell_type": "markdown",
   "metadata": {},
   "source": [
    "#8. Define e imprime un rango con todos los valores impares que hay hasta 10."
   ]
  },
  {
   "cell_type": "code",
   "execution_count": 11,
   "metadata": {},
   "outputs": [
    {
     "name": "stdout",
     "output_type": "stream",
     "text": [
      "1\n",
      "3\n",
      "5\n",
      "7\n",
      "9\n"
     ]
    }
   ],
   "source": [
    "for i in range(1,11,2):\n",
    "    print(i)"
   ]
  },
  {
   "cell_type": "markdown",
   "metadata": {},
   "source": [
    "#9. Crea una lista nueva donde tengamos los números de la lista **temperaturas** elevados al cuadrado."
   ]
  },
  {
   "cell_type": "code",
   "execution_count": 12,
   "metadata": {},
   "outputs": [
    {
     "name": "stdout",
     "output_type": "stream",
     "text": [
      "[4, 2025, 4489, 529, 2025, 4356, 144, 1, 1156, 4489, 9801, 9604, 4489, 4096, 1936, 10000]\n"
     ]
    }
   ],
   "source": [
    "lista_nueva = []\n",
    "for temperatura_cuadrada in temperaturas:\n",
    "    lista_nueva.append(temperatura_cuadrada**2)\n",
    "print(lista_nueva)"
   ]
  },
  {
   "cell_type": "markdown",
   "metadata": {},
   "source": [
    "#10. Crea una lista nueva donde tengamos el resto de la división de cada uno de los números entre 2."
   ]
  },
  {
   "cell_type": "code",
   "execution_count": 13,
   "metadata": {},
   "outputs": [
    {
     "name": "stdout",
     "output_type": "stream",
     "text": [
      "[1, 1, 1, 1, 1, 1, 1, 1]\n"
     ]
    }
   ],
   "source": [
    "lista_nueva2 = []\n",
    "for division in lista_nueva:\n",
    "    if division % 2 != 0:\n",
    "        lista_nueva2.append(division % 2)\n",
    "print(lista_nueva2)"
   ]
  },
  {
   "cell_type": "markdown",
   "metadata": {},
   "source": [
    "#11. Crea una lista nueva donde tengamos solo los elementos pares de la lista **temperaturas**."
   ]
  },
  {
   "cell_type": "code",
   "execution_count": 14,
   "metadata": {},
   "outputs": [
    {
     "name": "stdout",
     "output_type": "stream",
     "text": [
      "[4, 4356, 144, 1156, 9604, 4096, 1936, 10000]\n"
     ]
    }
   ],
   "source": [
    "lista_nueva3 = []\n",
    "for pares in lista_nueva:\n",
    "    if pares % 2 == 0:\n",
    "        lista_nueva3.append(pares)\n",
    "print(lista_nueva3)"
   ]
  },
  {
   "cell_type": "markdown",
   "metadata": {},
   "source": [
    "#12. Crea una lista nueva donde tengamos solo los elementos que sean menores que 50."
   ]
  },
  {
   "cell_type": "code",
   "execution_count": 22,
   "metadata": {},
   "outputs": [
    {
     "name": "stdout",
     "output_type": "stream",
     "text": [
      "[4, 2025, 4489, 529, 2025, 4356, 144, 1, 1156, 4489, 9801, 9604, 4489, 4096, 1936, 10000]\n",
      "[4, 1]\n"
     ]
    }
   ],
   "source": [
    "print(lista_nueva)\n",
    "lista_nueva4 = []\n",
    "\n",
    "for valores in lista_nueva:\n",
    "    if valores < 50: \n",
    "        lista_nueva4.append(valores)\n",
    "print(lista_nueva4)"
   ]
  },
  {
   "cell_type": "markdown",
   "metadata": {},
   "source": [
    "#13. Crea una lista donde tengamos los valores \"par\" e \"impar\" en función de los valores de la lista original. La lista resultante tiene que ser como la que indicamos a continuación:\n",
    "\n",
    "**lista_strings = [\"par\",\"impar\",\"impar\",\"impar\", \"impar\",\"par\",\"par\",\"impar\",\"par\",\"impar\",\"impar\",\"par\",\"impar\",\"par\", \"par\", \"par\"]**"
   ]
  },
  {
   "cell_type": "code",
   "execution_count": 44,
   "metadata": {},
   "outputs": [
    {
     "name": "stdout",
     "output_type": "stream",
     "text": [
      "['par', 'impar', 'impar', 'impar', 'impar', 'par', 'par', 'impar', 'par', 'impar', 'impar', 'par', 'impar', 'par', 'par', 'par']\n"
     ]
    }
   ],
   "source": [
    "lista_strings = []\n",
    "\n",
    "\n",
    "\n",
    "for numeros in lista_nueva:\n",
    "    if numeros % 2 == 0:\n",
    "        lista_strings.append(\"par\")\n",
    "    else: \n",
    "       lista_strings.append(\"impar\")\n",
    "\n",
    "\n",
    "print(lista_strings)\n",
    "        \n"
   ]
  },
  {
   "cell_type": "code",
   "execution_count": null,
   "metadata": {},
   "outputs": [
    {
     "name": "stdout",
     "output_type": "stream",
     "text": [
      "['par', 'impar', 'impar', 'impar', 'impar', 'par', 'par', 'impar', 'par', 'impar', 'impar', 'par', 'impar', 'par', 'par', 'par']\n"
     ]
    }
   ],
   "source": [
    "lista_strings2 = []\n",
    "\n",
    "for numeros2 in lista_nueva:\n",
    "    if numeros2 % 2 == 0:\n",
    "        lista_strings2.append(\"par\")\n",
    "    elif numeros2 % 2 != 0:\n",
    "        lista_strings2.append(\"impar\")\n",
    "\n",
    "print(lista_strings2)\n"
   ]
  },
  {
   "cell_type": "code",
   "execution_count": 52,
   "metadata": {},
   "outputs": [
    {
     "name": "stdout",
     "output_type": "stream",
     "text": [
      "['par', 'impar', 'impar', 'impar', 'impar', 'par', 'par', 'impar', 'par', 'impar', 'impar', 'par', 'impar', 'par', 'par', 'par']\n"
     ]
    }
   ],
   "source": [
    "lista_strings3 = []\n",
    "\n",
    "for numeros3 in lista_nueva:\n",
    "    if numeros3 % 2 == 0:\n",
    "        lista_strings3.append(\"par\")\n",
    "        continue\n",
    "    else:\n",
    "        lista_strings3.append(\"impar\")\n",
    "\n",
    "print(lista_strings3)"
   ]
  },
  {
   "cell_type": "markdown",
   "metadata": {},
   "source": [
    "#14. Pide al usuario un número entero positivo y suma los números pares e impares por separado hasta ese número."
   ]
  },
  {
   "cell_type": "code",
   "execution_count": null,
   "metadata": {},
   "outputs": [],
   "source": []
  },
  {
   "cell_type": "markdown",
   "metadata": {},
   "source": [
    "#15. Pide al usuario ingresar una cadena y cuenta cuántas veces aparece cada vocal (a, e, i, o, u) en la cadena."
   ]
  },
  {
   "cell_type": "code",
   "execution_count": null,
   "metadata": {},
   "outputs": [],
   "source": []
  },
  {
   "cell_type": "markdown",
   "metadata": {},
   "source": [
    "Sigo con la numeración aunque en los materiales a partir de aquí empiezan a contar de nuevo desde 1"
   ]
  },
  {
   "cell_type": "markdown",
   "metadata": {},
   "source": [
    "#16.  Crea una variable que sea igual a \"Python\" y genera un código que nos printee todas las letras menos la \"P\" usando la sentencia **continue**."
   ]
  },
  {
   "cell_type": "code",
   "execution_count": null,
   "metadata": {},
   "outputs": [],
   "source": []
  },
  {
   "cell_type": "markdown",
   "metadata": {},
   "source": [
    "#17. De la frase **'Hello'** imprime todas las letras que no sean una **'l'** usando **if**."
   ]
  },
  {
   "cell_type": "markdown",
   "metadata": {},
   "source": [
    "#18. Haz lo mismo que en 2 usando **continue**."
   ]
  },
  {
   "cell_type": "code",
   "execution_count": null,
   "metadata": {},
   "outputs": [],
   "source": []
  },
  {
   "cell_type": "markdown",
   "metadata": {},
   "source": [
    "#19. De la frase **'Hello'** imprime todas las letras parando el bucle si encuentras una **'o'**."
   ]
  },
  {
   "cell_type": "code",
   "execution_count": null,
   "metadata": {},
   "outputs": [],
   "source": []
  },
  {
   "cell_type": "markdown",
   "metadata": {},
   "source": [
    "#20. Define la variable **doce = '12'** y **seis = 6**. Intenta sumarlos. En el caso de que te salga un error imprime **'¡Un error!'**. Para eso usa un **try** ... **except**"
   ]
  },
  {
   "cell_type": "code",
   "execution_count": null,
   "metadata": {},
   "outputs": [],
   "source": []
  },
  {
   "cell_type": "markdown",
   "metadata": {},
   "source": [
    "#21. Basándonos en el ejercicio anterior, sin usar un **try** ... except**, ¿cómo podríamos solucionar el problema?"
   ]
  },
  {
   "cell_type": "code",
   "execution_count": null,
   "metadata": {},
   "outputs": [],
   "source": []
  },
  {
   "cell_type": "markdown",
   "metadata": {},
   "source": [
    "#22. Solicita al usuario ingresar números enteros positivos hasta que ingrese un número negativo. Luego, muestra la suma de todos los números pares ingresados."
   ]
  },
  {
   "cell_type": "code",
   "execution_count": null,
   "metadata": {},
   "outputs": [],
   "source": []
  },
  {
   "cell_type": "markdown",
   "metadata": {},
   "source": [
    "#23. Solicita al usuario ingresar dos números y muestra el resultado de dividir el primero por el segundo. Asegúrate de manejar la excepción si el segundo número es cero."
   ]
  },
  {
   "cell_type": "code",
   "execution_count": null,
   "metadata": {},
   "outputs": [],
   "source": []
  },
  {
   "cell_type": "markdown",
   "metadata": {},
   "source": [
    "#24. Solicita al usuario ingresar un número y muestra su raíz cuadrada. Maneja la excepción si el número es negativo."
   ]
  },
  {
   "cell_type": "code",
   "execution_count": null,
   "metadata": {},
   "outputs": [],
   "source": []
  },
  {
   "cell_type": "markdown",
   "metadata": {},
   "source": [
    "#25. Crea una lista de números y solicita al usuario ingresar un índice para acceder a un elemento de la lista. Maneja la excepción si el índice está fuera de rango."
   ]
  },
  {
   "cell_type": "code",
   "execution_count": null,
   "metadata": {},
   "outputs": [],
   "source": []
  }
 ],
 "metadata": {
  "kernelspec": {
   "display_name": "base",
   "language": "python",
   "name": "python3"
  },
  "language_info": {
   "codemirror_mode": {
    "name": "ipython",
    "version": 3
   },
   "file_extension": ".py",
   "mimetype": "text/x-python",
   "name": "python",
   "nbconvert_exporter": "python",
   "pygments_lexer": "ipython3",
   "version": "3.12.7"
  }
 },
 "nbformat": 4,
 "nbformat_minor": 2
}
