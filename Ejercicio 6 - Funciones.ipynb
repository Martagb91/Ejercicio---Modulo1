{
 "cells": [
  {
   "cell_type": "markdown",
   "metadata": {},
   "source": [
    "# EJERCICIO 6. FUNCIONES"
   ]
  },
  {
   "cell_type": "code",
   "execution_count": 98,
   "metadata": {},
   "outputs": [],
   "source": [
    "#1. Escribe una función que reciba una cadena de texto como parámetro y \n",
    "#   devuelva un diccionario con las frecuencias de cada letra en la cadena. Los espacios no deben ser considerados.\n",
    "\n",
    "def funcion1(texto):\n",
    "    diccionario = {}  #donde voy a guardar\n",
    "    for i in texto:\n",
    "        if i == \" \":\n",
    "            continue\n",
    "        elif i in diccionario: \n",
    "           diccionario[i] += 1\n",
    "        else:\n",
    "            diccionario[i] = 1 \n",
    "    return diccionario\n"
   ]
  },
  {
   "cell_type": "code",
   "execution_count": 4,
   "metadata": {},
   "outputs": [
    {
     "data": {
      "text/plain": [
       "{'H': 1, 'o': 4, 'y': 1, 'c': 1, 'm': 1, 's': 1, 'p': 1, 'a': 1}"
      ]
     },
     "execution_count": 4,
     "metadata": {},
     "output_type": "execute_result"
    }
   ],
   "source": [
    "funcion1(\"Hoy como sopa\")"
   ]
  },
  {
   "cell_type": "code",
   "execution_count": 99,
   "metadata": {},
   "outputs": [],
   "source": [
    "#2. Escribe una función que reciba una cadena de texto como parámetro y \n",
    "#   devuelva una lista con todas las palabras que tienen más de 5 letras\n",
    "\n",
    "def funcion2(texto): \n",
    "    lista_caracteres = []\n",
    "    texto_lista = texto.split()\n",
    "    for i in texto_lista: \n",
    "         if len(i) > 5:  \n",
    "           lista_caracteres.append(i)\n",
    "         else: \n",
    "           pass\n",
    "    return lista_caracteres\n",
    "\n"
   ]
  },
  {
   "cell_type": "code",
   "execution_count": 100,
   "metadata": {},
   "outputs": [],
   "source": [
    "def funcion3(lista): \n",
    "    lista_caracteres = []\n",
    "    for i in lista: \n",
    "         if len(i) > 5:  \n",
    "           lista_caracteres.append(i)\n",
    "         else: \n",
    "           pass\n",
    "    return lista_caracteres"
   ]
  },
  {
   "cell_type": "code",
   "execution_count": 101,
   "metadata": {},
   "outputs": [
    {
     "data": {
      "text/plain": [
       "['bernardo']"
      ]
     },
     "execution_count": 101,
     "metadata": {},
     "output_type": "execute_result"
    }
   ],
   "source": [
    "funcion3([\"pedro\", \"juan\", \"marta\", \"bernardo\"])"
   ]
  },
  {
   "cell_type": "code",
   "execution_count": 102,
   "metadata": {},
   "outputs": [
    {
     "data": {
      "text/plain": [
       "['caramelo', 'alcachofa']"
      ]
     },
     "execution_count": 102,
     "metadata": {},
     "output_type": "execute_result"
    }
   ],
   "source": [
    "funcion2(\"caramelo alcachofa juan marta sol uno a\")"
   ]
  },
  {
   "cell_type": "code",
   "execution_count": 103,
   "metadata": {},
   "outputs": [],
   "source": [
    "#3. Crea una función que tome una lista de palabras como entrada y \n",
    "#   devuelva una lista de palabras que contengan más de una vocal.\n",
    "\n",
    "def funcion4(lista):\n",
    "   \n",
    "    vocales_lista = []\n",
    "    for i in lista: \n",
    "        if \"a\" in i:\n",
    "            vocales_lista.append(i)\n",
    "        elif \"a\" in i:\n",
    "            vocales_lista.append(i)\n",
    "        elif \"e\" in i:\n",
    "            vocales_lista.append(i)\n",
    "        elif \"i\" in i:\n",
    "            vocales_lista.append(i)\n",
    "        elif \"o\" in i:\n",
    "            vocales_lista.append(i)\n",
    "        elif \"u\" in i:\n",
    "            vocales_lista.append(i)\n",
    "        else: \n",
    "            pass\n",
    "    return vocales_lista"
   ]
  },
  {
   "cell_type": "code",
   "execution_count": 89,
   "metadata": {},
   "outputs": [
    {
     "data": {
      "text/plain": [
       "['Marta', 'Sara', 'Valladolid', 'Getefe']"
      ]
     },
     "execution_count": 89,
     "metadata": {},
     "output_type": "execute_result"
    }
   ],
   "source": [
    "funcion4([\"Marta\", \"Sara\", \"Valladolid\", \"Getefe\", \"SNDT\"])"
   ]
  },
  {
   "cell_type": "code",
   "execution_count": 133,
   "metadata": {},
   "outputs": [],
   "source": [
    "#4. Crea una función que tome una lista de números y calcule la suma de todos los números pares en la lista\n",
    "\n",
    "\n",
    "\n",
    "def funcion5(lista):\n",
    "    for i in lista: \n",
    "        if i % 2 == 0:\n",
    "            sum(i)\n",
    "    return i\n",
    "\n"
   ]
  },
  {
   "cell_type": "code",
   "execution_count": 135,
   "metadata": {},
   "outputs": [
    {
     "ename": "TypeError",
     "evalue": "funcion5() takes 1 positional argument but 8 were given",
     "output_type": "error",
     "traceback": [
      "\u001b[1;31m---------------------------------------------------------------------------\u001b[0m",
      "\u001b[1;31mTypeError\u001b[0m                                 Traceback (most recent call last)",
      "Cell \u001b[1;32mIn[135], line 1\u001b[0m\n\u001b[1;32m----> 1\u001b[0m funcion5(\u001b[38;5;241m2\u001b[39m,\u001b[38;5;241m3\u001b[39m,\u001b[38;5;241m4\u001b[39m,\u001b[38;5;241m5\u001b[39m,\u001b[38;5;241m6\u001b[39m,\u001b[38;5;241m7\u001b[39m,\u001b[38;5;241m8\u001b[39m,\u001b[38;5;241m10\u001b[39m)\n",
      "\u001b[1;31mTypeError\u001b[0m: funcion5() takes 1 positional argument but 8 were given"
     ]
    }
   ],
   "source": [
    "funcion5(2,3,4,5,6,7,8,10)"
   ]
  },
  {
   "cell_type": "code",
   "execution_count": 137,
   "metadata": {},
   "outputs": [
    {
     "ename": "TypeError",
     "evalue": "'int' object is not iterable",
     "output_type": "error",
     "traceback": [
      "\u001b[1;31m---------------------------------------------------------------------------\u001b[0m",
      "\u001b[1;31mTypeError\u001b[0m                                 Traceback (most recent call last)",
      "Cell \u001b[1;32mIn[137], line 5\u001b[0m\n\u001b[0;32m      3\u001b[0m \u001b[38;5;28;01mfor\u001b[39;00m i \u001b[38;5;129;01min\u001b[39;00m lista_numeros:\n\u001b[0;32m      4\u001b[0m     \u001b[38;5;28;01mif\u001b[39;00m i \u001b[38;5;241m%\u001b[39m \u001b[38;5;241m2\u001b[39m \u001b[38;5;241m==\u001b[39m \u001b[38;5;241m0\u001b[39m:\n\u001b[1;32m----> 5\u001b[0m         \u001b[38;5;28msum\u001b[39m(i)\n\u001b[0;32m      6\u001b[0m     \u001b[38;5;28;01melse\u001b[39;00m: \n\u001b[0;32m      7\u001b[0m         \u001b[38;5;28mprint\u001b[39m(\u001b[38;5;124m\"\u001b[39m\u001b[38;5;124mhay un error\u001b[39m\u001b[38;5;124m\"\u001b[39m)\n",
      "\u001b[1;31mTypeError\u001b[0m: 'int' object is not iterable"
     ]
    }
   ],
   "source": [
    "lista_numeros = [2,3,4,5,6,7,8,10]\n",
    "\n",
    "for i in lista_numeros:\n",
    "    if i % 2 == 0:\n",
    "        sum(i)\n",
    "    else: \n",
    "        print(\"hay un error\")\n"
   ]
  },
  {
   "cell_type": "code",
   "execution_count": null,
   "metadata": {},
   "outputs": [],
   "source": [
    "#5. Escribe una función que tome una lista de números como entrada y calcule el promedio de esos números."
   ]
  },
  {
   "cell_type": "code",
   "execution_count": null,
   "metadata": {},
   "outputs": [],
   "source": [
    "#6. Crea una función que determine el próximo año en el que las cifras del año de tu cumpleaños no se repitan. \n",
    "#   La función toma un año de tu cumpleaños como entrada y calcula el próximo año en el que las cifras no se repitan, \n",
    "#   es decir, todas las cifras en el año son diferentes entre sí."
   ]
  },
  {
   "cell_type": "code",
   "execution_count": null,
   "metadata": {},
   "outputs": [],
   "source": [
    "#7. Crea una función que determine cuántos pasteles puedes hornear según una receta y los ingredientes disponibles. \n",
    "#   La función toma dos diccionarios como entrada: receta, que contiene los ingredientes necesarios para un pastel, \n",
    "#   y disponible, que contiene la cantidad disponible de cada ingrediente. Sus parámetros de entrada son:\n",
    "\n",
    "\"\"\" \n",
    "- receta: Un diccionario que representa los ingredientes necesarios para un pastel, \n",
    "        donde las claves son los nombres de los ingredientes y los valores son las cantidades necesarias de cada ingrediente.\n",
    "\n",
    "- disponible: Un diccionario que representa la cantidad disponible de cada ingrediente, \n",
    "  donde las claves son los nombres de los ingredientes y los valores son las cantidades disponibles. \"\"\"\n",
    "\n",
    "receta1 = {'flour': 500, 'sugar': 200, 'eggs': 1}\n",
    "ingredientes1 = {'flour': 1200, 'sugar': 1200, 'eggs': 5, 'milk': 200}\n",
    "\n",
    "pasteles(receta1, ingredientes1)    \n",
    "# output: con estos ingredientes solo puedo hacer 2 bizcochos"
   ]
  },
  {
   "cell_type": "code",
   "execution_count": null,
   "metadata": {},
   "outputs": [],
   "source": [
    "#8. BONUS: 8. Crea una función llamada fibonacci que tome un número n como argumento y \n",
    "#   devuelva una lista con los primeros n números de la serie Fibonacci."
   ]
  },
  {
   "cell_type": "markdown",
   "metadata": {},
   "source": [
    "### Ejercicios de funciones con parámetros"
   ]
  },
  {
   "cell_type": "code",
   "execution_count": null,
   "metadata": {},
   "outputs": [],
   "source": [
    "#1. Crea una función que tome un número arbitrario de cadenas de texto como argumentos y \n",
    "#   devuelva una cadena de texto que sea la concatenación de todas ellas"
   ]
  },
  {
   "cell_type": "code",
   "execution_count": null,
   "metadata": {},
   "outputs": [],
   "source": [
    "#2. Crea una función que tome un número arbitrario de argumentos y devuelva el producto de todos ellos."
   ]
  },
  {
   "cell_type": "code",
   "execution_count": null,
   "metadata": {},
   "outputs": [],
   "source": [
    "#3. Crea una función que tome un número arbitrario de diccionarios como argumentos y \n",
    "#   devuelva el valor mínimo entre todos los valores de los diccionarios"
   ]
  },
  {
   "cell_type": "code",
   "execution_count": null,
   "metadata": {},
   "outputs": [],
   "source": [
    "#4. Crea una función que tome un número arbitrario de listas y \n",
    "#   devuelva un diccionario donde las listas originales se combinan usando los índices como claves."
   ]
  },
  {
   "cell_type": "code",
   "execution_count": null,
   "metadata": {},
   "outputs": [],
   "source": [
    "#5. Crea una función que tome el tipo de figura geométrica (por ejemplo, \"cuadrado\", \"triángulo\", \"círculo\") como argumento de palabra clave y los argumentos necesarios para calcular el área de esa figura. \n",
    "#   La función debe devolver el área calculada. Soluciona este ejercicio con kwargs Por ejemplo:\n",
    "\n",
    "# esta función calcula el area de un cuadrado, para hacerlo solo necesitamos saber su lado  \n",
    "area_figura(tipo=\"cuadrado\", lado=5)\n",
    "\n",
    "# si quisieramos calcular la de un triángulo necesitaríamos su base y su altura, \n",
    "# y si quisieramos calcular de un círculo necesitaríamos su radio. "
   ]
  },
  {
   "cell_type": "code",
   "execution_count": null,
   "metadata": {},
   "outputs": [],
   "source": [
    "#6. Crea una función que tome argumentos de palabra clave para los ingredientes y pasos de una receta y \n",
    "#   devuelva una descripción completa de la receta. Resuelvelo con kwargs. Esta función toma como entrada una serie de detalles sobre la receta, como el nombre de la receta, los ingredientes necesarios y los pasos para prepararla. Luego, la función genera y devuelve una descripción detallada de la receta en forma de cadena de texto. Los parámetros que debe recibir la función son:\n",
    "\n",
    "\"\"\"\n",
    "- nombre_receta: Un argumento de palabra clave que representa el nombre de la receta.\n",
    "\n",
    "- ingredientes: Un argumento de palabra clave que es un diccionario donde las claves son los nombres de los ingredientes \n",
    "              y los valores son las cantidades necesarias de cada ingrediente.\n",
    "\n",
    "- pasos: Un argumento de palabra clave que contiene los pasos necesarios para preparar la receta en forma de una cadena de texto. \"\"\"\n",
    "\n",
    "# Al final tendremos que ver algo como esto:\n",
    "\n",
    "'''\n",
    "Receta: Pastel de Chocolate\n",
    "Ingredientes:\n",
    "    - 200g de chocolate\n",
    "    - 150g de harina\n",
    "    - 100g de azúcar\n",
    "Pasos:\n",
    "    1. Mezclar el chocolate con la harina.\n",
    "    2. Agregar el azúcar y mezclar bien.\n",
    "'''\n",
    "\n",
    "\n",
    "nombre_receta:\n",
    "\n",
    "ingredientes: \n",
    "\n",
    "pasos: \n"
   ]
  },
  {
   "cell_type": "code",
   "execution_count": null,
   "metadata": {},
   "outputs": [],
   "source": [
    "#7. Crea una función que tome argumentos de palabra clave para los ingresos y gastos de una empresa y \n",
    "#   genere un informe financiero. Resyelvelo con kwargs. La función calcula y presenta un informe financiero simple. \n",
    "\n",
    "#   Este informe incluye detalles sobre los ingresos, los gastos y el balance de una entidad financiera, \n",
    "#   como una empresa o una persona. La función toma como entrada los ingresos y los gastos, y \n",
    "#   calcula el balance restando los gastos de los ingresos. \n",
    "\n",
    "#   Luego, genera una descripción del informe financiero en forma de cadena de texto. \n",
    "\n",
    "#   Los parámetros que recibe la función son:\n",
    "\n",
    "\"\"\"\n",
    "\n",
    "- ingresos: Un argumento de palabra clave que representa la cantidad total de ingresos (dinero ganado) que se desea informar. \n",
    "            Por defecto, se establece en 0 si no se proporciona ningún valor.\n",
    "\n",
    "- gastos: Un argumento de palabra clave que representa la cantidad total de gastos (dinero gastado) que se desea informar. \n",
    "          Por defecto, se establece en 0 si no se proporciona ningún valor.\"\"\"\n",
    "\n",
    "#Al final tendremos algo como esto:\n",
    "\n",
    "'''\n",
    "Ingresos: $50000\n",
    "Gastos: $35000\n",
    "Balance: $15000\n",
    "'''\n",
    "\n",
    "ingresos =\n",
    "gastos = "
   ]
  }
 ],
 "metadata": {
  "kernelspec": {
   "display_name": "base",
   "language": "python",
   "name": "python3"
  },
  "language_info": {
   "codemirror_mode": {
    "name": "ipython",
    "version": 3
   },
   "file_extension": ".py",
   "mimetype": "text/x-python",
   "name": "python",
   "nbconvert_exporter": "python",
   "pygments_lexer": "ipython3",
   "version": "3.12.7"
  }
 },
 "nbformat": 4,
 "nbformat_minor": 2
}
